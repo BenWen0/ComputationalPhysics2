{
 "cells": [
  {
   "cell_type": "code",
   "execution_count": 14,
   "metadata": {},
   "outputs": [],
   "source": [
    "import torch\n",
    "import torch_geometric\n",
    "from torch_geometric.data import Data\n",
    "from torch_geometric.datasets import TUDataset\n",
    "from torch_geometric.loader import DataLoader"
   ]
  },
  {
   "cell_type": "code",
   "execution_count": 15,
   "metadata": {},
   "outputs": [
    {
     "name": "stdout",
     "output_type": "stream",
     "text": [
      "cuda\n"
     ]
    }
   ],
   "source": [
    "device = \"cuda\" if torch.cuda.is_available() else \"cpu\"\n",
    "print(device)"
   ]
  },
  {
   "cell_type": "code",
   "execution_count": 16,
   "metadata": {},
   "outputs": [],
   "source": [
    "class gineConv(torch.nn.Module):\n",
    "    def __init__(self, in_channels, num_classes, edge_dim):\n",
    "        super().__init__()\n",
    "\n",
    "        self.nn_1 = torch.nn.Sequential(\n",
    "            torch.nn.Linear(in_features=in_channels, out_features=20, bias=True),\n",
    "            torch.nn.ReLU(),\n",
    "            torch.nn.Linear(20, 20),\n",
    "            torch.nn.ReLU(),\n",
    "            torch.nn.Linear(20, 20)\n",
    "        )\n",
    "\n",
    "        self.nn_2 = torch.nn.Sequential(\n",
    "            torch.nn.Linear(in_features=20, out_features=30, bias=True),\n",
    "            torch.nn.ReLU(),\n",
    "            torch.nn.Linear(30, 30),\n",
    "            torch.nn.ReLU(),\n",
    "            torch.nn.Linear(30, num_classes)\n",
    "        )\n",
    "\n",
    "        self.gine_conv1 = torch_geometric.nn.GINEConv(nn=self.nn_1, train_eps=True, edge_dim = edge_dim)\n",
    "        self.gine_conv2 = torch_geometric.nn.GINEConv(nn=self.nn_2, train_eps=True, edge_dim = edge_dim)\n",
    "\n",
    "    \n",
    "    def forward(self, data):\n",
    "        x, edge_index, edge_attr = data.x, data.edge_index, data.edge_attr\n",
    "\n",
    "        x = self.gine_conv1(x, edge_index, edge_attr)\n",
    "        x = torch.nn.functional.relu(x)\n",
    "\n",
    "        x = self.gine_conv2(x, edge_index, edge_attr)\n",
    "\n",
    "        return torch.nn.functional.log_softmax(x, dim=1) #to use with loss function nll_loss"
   ]
  },
  {
   "cell_type": "code",
   "execution_count": 17,
   "metadata": {},
   "outputs": [],
   "source": [
    "def train(loader, model, loss_fn, optimizer):\n",
    "    total_num_dataset = len(loader.dataset)\n",
    "    model.train()\n",
    "    for batch_nr, batch_dat in loader:\n",
    "        batch_dat = batch_dat.to(device)\n",
    "\n",
    "        pred = model(batch_dat)\n",
    "        loss = loss_fn(pred, batch_dat.y)\n",
    "        \n",
    "        loss.backward()\n",
    "        optimizer.step()\n",
    "        optimizer.zero_grad()\n",
    "\n",
    "        if batch_nr % 100 == 0:\n",
    "            loss, current = loss.item(), (batch_nr + 1)*len(batch_dat)\n",
    "            print(f\"loss: {loss:>7f} [{current:>5d}/{total_num_dataset:>5d}]\")"
   ]
  },
  {
   "cell_type": "code",
   "execution_count": 18,
   "metadata": {},
   "outputs": [
    {
     "name": "stdout",
     "output_type": "stream",
     "text": [
      "Epoch 1\n",
      "----------------------------------------\n",
      "Epoch 2\n",
      "----------------------------------------\n",
      "Epoch 3\n",
      "----------------------------------------\n",
      "Epoch 4\n",
      "----------------------------------------\n",
      "Epoch 5\n",
      "----------------------------------------\n",
      "Done\n"
     ]
    }
   ],
   "source": [
    "model = gineConv(10, 5, 10)\n",
    "loss_fn = torch.nn.NLLLoss()\n",
    "optimizer = torch.optim.Adam(model.parameters(), lr=1e-2)\n",
    "\n",
    "#dataset = [Data(), Data(), Data(), ...]\n",
    "#train_dataloader = DataLoader(dataset, batch_size=, shuffle=)\n",
    "\n",
    "epochs = 5\n",
    "for t in range(epochs):\n",
    "    print(f\"Epoch {t+1}\\n----------------------------------------\")\n",
    "    #train(train_dataloader, model, loss_fn, optimizer)\n",
    "    #test(test_dataloader, model, loss_fn)\n",
    "print(\"Done\")\n"
   ]
  },
  {
   "cell_type": "code",
   "execution_count": null,
   "metadata": {},
   "outputs": [],
   "source": []
  }
 ],
 "metadata": {
  "kernelspec": {
   "display_name": "ML",
   "language": "python",
   "name": "python3"
  },
  "language_info": {
   "codemirror_mode": {
    "name": "ipython",
    "version": 3
   },
   "file_extension": ".py",
   "mimetype": "text/x-python",
   "name": "python",
   "nbconvert_exporter": "python",
   "pygments_lexer": "ipython3",
   "version": "3.11.2"
  }
 },
 "nbformat": 4,
 "nbformat_minor": 2
}
