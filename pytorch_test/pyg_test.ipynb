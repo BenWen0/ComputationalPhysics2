{
 "cells": [
  {
   "cell_type": "code",
   "execution_count": 1,
   "metadata": {},
   "outputs": [],
   "source": [
    "import torch\n",
    "import torch_geometric\n",
    "from torch_geometric.data import Data\n",
    "from torch_geometric.datasets import TUDataset\n",
    "from torch_geometric.loader import DataLoader"
   ]
  },
  {
   "cell_type": "code",
   "execution_count": 2,
   "metadata": {},
   "outputs": [
    {
     "name": "stdout",
     "output_type": "stream",
     "text": [
      "cuda\n"
     ]
    }
   ],
   "source": [
    "device = \"cuda\" if torch.cuda.is_available() else \"cpu\"\n",
    "print(device)"
   ]
  },
  {
   "cell_type": "code",
   "execution_count": null,
   "metadata": {},
   "outputs": [
    {
     "name": "stdout",
     "output_type": "stream",
     "text": [
      "Data(x=[3, 1], edge_index=[2, 4])\n"
     ]
    }
   ],
   "source": [
    "#data.x: Node feature matrix with shape [num_nodes, num_node_features]\n",
    "#data.edge_index: Graph connectivity in COO format with shape [2, num_edges] and type torch.long\n",
    "#data.edge_attr: Edge feature matrix with shape [num_edges, num_edge_features]\n",
    "#data.y: Target to train against (may have arbitrary shape), e.g., node-level targets of shape [num_nodes, *] or graph-level targets of shape [1, *]\n",
    "#data.pos: Node position matrix with shape [num_nodes, num_dimensions]\n",
    "\n",
    "edge_index = torch.tensor([[0, 1, 1, 2], [1, 0, 2, 1]], dtype=torch.long)\n",
    "x = torch.tensor([[-1], [0], [1]], dtype=torch.float)\n",
    "data = Data(x=x, edge_index=edge_index, pos= edge_atrr=, y=)\n",
    "print(data)"
   ]
  },
  {
   "cell_type": "code",
   "execution_count": null,
   "metadata": {},
   "outputs": [],
   "source": []
  },
  {
   "cell_type": "code",
   "execution_count": null,
   "metadata": {},
   "outputs": [
    {
     "name": "stdout",
     "output_type": "stream",
     "text": [
      "Data(x=[3, 1], edge_index=[2, 4])\n"
     ]
    }
   ],
   "source": [
    "# if edge_index is of the form [num_edges, 2] then call edge_index.transpose().contiguous()\n",
    "edge_index = torch.tensor([[0, 1],\n",
    "                           [1, 0],\n",
    "                           [1, 2],\n",
    "                           [2, 1]], dtype=torch.long)\n",
    "x = torch.tensor([[-1], [0], [1]], dtype=torch.float)\n",
    "\n",
    "data = Data(x=x, edge_index=edge_index.t().contiguous())\n",
    "#loader = DataLoader([groah1, graph2, graoh3, ...], batch_size=32, shuffle=True)\n",
    "#for batch in loader: model(batch)\n",
    "print(data)"
   ]
  },
  {
   "cell_type": "code",
   "execution_count": 5,
   "metadata": {},
   "outputs": [
    {
     "name": "stdout",
     "output_type": "stream",
     "text": [
      "<class 'torch_geometric.datasets.tu_dataset.TUDataset'> <class 'torch_geometric.data.data.Data'> Data(edge_index=[2, 168], x=[37, 3], y=[1])\n",
      "3\n",
      "6\n"
     ]
    }
   ],
   "source": [
    "dataset = TUDataset(root=\"TUDatasets\", name=\"ENZYMES\")\n",
    "print(type(dataset), type(dataset[0]), dataset[0])\n",
    "print(dataset.num_node_features)\n",
    "print(dataset.num_classes)"
   ]
  },
  {
   "cell_type": "code",
   "execution_count": 12,
   "metadata": {},
   "outputs": [
    {
     "name": "stdout",
     "output_type": "stream",
     "text": [
      "600\n",
      "0 <class 'abc.DataBatch'> tensor([5, 5, 5, 3, 3, 4, 2, 3, 1, 0, 2, 3, 4, 1, 2, 2, 4, 2, 4, 1, 2, 3, 3, 4,\n",
      "        3, 2, 5, 1, 4, 2, 0, 0]) 32\n",
      "1 <class 'abc.DataBatch'> tensor([1, 2, 3, 5, 4, 3, 1, 0, 2, 1, 4, 1, 4, 0, 1, 3, 1, 4, 5, 5, 1, 5, 3, 3,\n",
      "        1, 5, 3, 5, 3, 0, 3, 1]) 32\n",
      "2 <class 'abc.DataBatch'> tensor([2, 5, 4, 0, 3, 2, 0, 0, 3, 0, 1, 1, 5, 2, 4, 2, 4, 1, 0, 4, 1, 4, 2, 1,\n",
      "        2, 1, 2, 3, 1, 5, 4, 4]) 32\n",
      "3 <class 'abc.DataBatch'> tensor([0, 2, 3, 3, 0, 1, 5, 5, 5, 1, 4, 1, 3, 5, 3, 2, 0, 3, 4, 1, 4, 5, 0, 3,\n",
      "        4, 1, 5, 0, 1, 3, 0, 0]) 32\n",
      "4 <class 'abc.DataBatch'> tensor([5, 0, 0, 4, 3, 4, 3, 2, 5, 1, 0, 5, 5, 2, 0, 5, 4, 1, 2, 2, 3, 0, 1, 3,\n",
      "        2, 0, 1, 1, 4, 3, 1, 2]) 32\n",
      "5 <class 'abc.DataBatch'> tensor([3, 1, 4, 3, 5, 0, 1, 1, 5, 1, 0, 1, 0, 2, 4, 1, 2, 1, 3, 4, 1, 5, 3, 0,\n",
      "        4, 0, 4, 5, 1, 3, 2, 2]) 32\n",
      "6 <class 'abc.DataBatch'> tensor([1, 0, 0, 1, 3, 1, 4, 5, 4, 4, 4, 0, 1, 0, 5, 3, 2, 3, 1, 4, 0, 1, 4, 3,\n",
      "        0, 0, 3, 1, 5, 2, 0, 5]) 32\n",
      "7 <class 'abc.DataBatch'> tensor([4, 2, 4, 1, 1, 1, 0, 3, 2, 1, 1, 4, 0, 1, 3, 3, 1, 1, 3, 5, 1, 4, 2, 0,\n",
      "        0, 3, 3, 2, 5, 3, 5, 4]) 32\n",
      "8 <class 'abc.DataBatch'> tensor([0, 5, 0, 0, 1, 0, 2, 4, 1, 3, 0, 0, 4, 4, 2, 5, 3, 2, 5, 4, 5, 2, 2, 1,\n",
      "        2, 2, 4, 0, 2, 0, 0, 2]) 32\n",
      "9 <class 'abc.DataBatch'> tensor([0, 4, 0, 5, 1, 4, 2, 0, 4, 5, 1, 5, 4, 5, 4, 0, 0, 0, 5, 2, 3, 3, 3, 1,\n",
      "        5, 0, 2, 3, 3, 4, 4, 0]) 32\n",
      "10 <class 'abc.DataBatch'> tensor([4, 1, 3, 0, 1, 5, 5, 5, 3, 1, 1, 0, 4, 0, 3, 1, 1, 1, 4, 2, 2, 1, 5, 2,\n",
      "        3, 5, 1, 4, 2, 5, 1, 4]) 32\n",
      "11 <class 'abc.DataBatch'> tensor([5, 4, 5, 5, 2, 5, 4, 5, 1, 5, 5, 4, 2, 3, 0, 3, 3, 0, 3, 4, 4, 3, 5, 0,\n",
      "        4, 4, 0, 2, 1, 0, 2, 4]) 32\n",
      "12 <class 'abc.DataBatch'> tensor([3, 1, 4, 1, 0, 3, 0, 0, 5, 2, 5, 4, 0, 2, 2, 3, 1, 3, 4, 3, 0, 2, 3, 0,\n",
      "        2, 0, 3, 2, 3, 5, 2, 4]) 32\n",
      "13 <class 'abc.DataBatch'> tensor([4, 4, 2, 0, 3, 0, 5, 4, 4, 5, 3, 2, 2, 5, 3, 2, 1, 2, 0, 4, 3, 2, 3, 4,\n",
      "        1, 4, 1, 5, 5, 0, 0, 1]) 32\n",
      "14 <class 'abc.DataBatch'> tensor([4, 4, 4, 1, 4, 5, 5, 0, 4, 5, 0, 2, 3, 4, 2, 2, 1, 2, 2, 2, 2, 0, 0, 2,\n",
      "        2, 4, 1, 0, 1, 5, 5, 0]) 32\n",
      "15 <class 'abc.DataBatch'> tensor([5, 3, 2, 2, 5, 1, 5, 5, 0, 4, 3, 5, 2, 4, 1, 1, 4, 5, 3, 1, 4, 3, 5, 5,\n",
      "        2, 1, 5, 5, 4, 1, 4, 5]) 32\n",
      "16 <class 'abc.DataBatch'> tensor([0, 1, 0, 4, 3, 0, 5, 2, 3, 2, 5, 2, 4, 2, 2, 3, 0, 2, 0, 3, 1, 5, 5, 5,\n",
      "        4, 3, 3, 5, 4, 5, 4, 5]) 32\n",
      "17 <class 'abc.DataBatch'> tensor([2, 2, 2, 2, 0, 4, 2, 5, 2, 3, 0, 0, 1, 1, 3, 3, 3, 2, 0, 5, 5, 0, 5, 3,\n",
      "        2, 3, 0, 5, 5, 1, 0, 5]) 32\n",
      "18 <class 'abc.DataBatch'> tensor([1, 4, 3, 5, 4, 3, 0, 1, 0, 3, 2, 3, 1, 2, 3, 4, 5, 0, 4, 2, 2, 2, 3, 3]) 24\n"
     ]
    }
   ],
   "source": [
    "loader = DataLoader(dataset, batch_size=32, shuffle=True)\n",
    "print(len(loader.dataset))\n",
    "for batch_nr, batch_dat  in enumerate(loader):\n",
    "    print(batch_nr, type(batch_dat), batch_dat.y, len(batch_dat))"
   ]
  },
  {
   "cell_type": "code",
   "execution_count": 49,
   "metadata": {},
   "outputs": [],
   "source": [
    "class GCN(torch.nn.Module):\n",
    "    def __init__(self, num_node_features, num_classes):\n",
    "        super().__init__()\n",
    "        self.conv1 = torch_geometric.nn.GCNConv(num_node_features, 16)\n",
    "        self.conv2 = torch_geometric.nn.GCNConv(16, 10)\n",
    "        self.conv3 = torch_geometric.nn.GCNConv(10, num_classes)\n",
    "\n",
    "    \n",
    "    def forward(self, data):\n",
    "        x, edge_index = data.x, data.edge_index\n",
    "\n",
    "        x = self.conv1(x, edge_index)\n",
    "        x = torch.nn.functional.relu(x)\n",
    "        #x = torch.nn.functional.dropout(x, training=self.training)\n",
    "        x = self.conv2(x, edge_index)\n",
    "        x = torch.nn.functional.relu(x)\n",
    "\n",
    "        x = self.conv3(x, edge_index)\n",
    "\n",
    "        return torch.nn.functional.log_softmax(x, dim=1)\n",
    "\n",
    "model = GCN(dataset.num_node_features, dataset.num_classes).to(device)"
   ]
  },
  {
   "cell_type": "code",
   "execution_count": null,
   "metadata": {},
   "outputs": [],
   "source": []
  },
  {
   "cell_type": "code",
   "execution_count": null,
   "metadata": {},
   "outputs": [],
   "source": []
  }
 ],
 "metadata": {
  "kernelspec": {
   "display_name": "ML",
   "language": "python",
   "name": "python3"
  },
  "language_info": {
   "codemirror_mode": {
    "name": "ipython",
    "version": 3
   },
   "file_extension": ".py",
   "mimetype": "text/x-python",
   "name": "python",
   "nbconvert_exporter": "python",
   "pygments_lexer": "ipython3",
   "version": "3.11.2"
  }
 },
 "nbformat": 4,
 "nbformat_minor": 2
}
