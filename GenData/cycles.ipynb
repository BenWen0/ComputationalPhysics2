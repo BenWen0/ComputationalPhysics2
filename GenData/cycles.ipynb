{
 "cells": [
  {
   "cell_type": "code",
   "execution_count": 4,
   "metadata": {},
   "outputs": [],
   "source": [
    "import numpy as np\n",
    "import networkx as nx\n",
    "import matplotlib.pyplot as plt\n",
    "from tqdm import tqdm\n",
    "import os"
   ]
  },
  {
   "cell_type": "code",
   "execution_count": 7,
   "metadata": {},
   "outputs": [
    {
     "name": "stderr",
     "output_type": "stream",
     "text": [
      "100%|██████████| 100000/100000 [1:02:00<00:00, 26.88it/s] \n"
     ]
    }
   ],
   "source": [
    "N_GRAPHS = 100000\n",
    "N_NODES = np.random.randint(low=80, high=120, size=(N_GRAPHS))\n",
    "N_EDGES = np.random.randint(low=40, high=80, size=(N_GRAPHS))\n",
    "\n",
    "for g in tqdm(range(N_GRAPHS)):\n",
    "    G = nx.Graph()\n",
    "    node_list = np.arange(0, N_NODES[g])\n",
    "    adj_list = np.random.randint(low=0, high=N_NODES[g], size=(N_EDGES[g], 2))\n",
    "    G.add_nodes_from(node_list)\n",
    "    G.add_edges_from(adj_list)\n",
    "    G = G.to_undirected()\n",
    "    G.remove_edges_from(nx.selfloop_edges(G))\n",
    "    #nx.draw(G, with_labels=False, font_weight='bold', node_size=10)\n",
    "    try:\n",
    "        nx.find_cycle(G, orientation=\"ignore\")\n",
    "        np.savez(f\"DataCycle/cycles/{g}.npz\",nodes=node_list, edges=adj_list)\n",
    "    except nx.NetworkXNoCycle:\n",
    "        np.savez(f\"DataCycle/no_cycles/{g}.npz\",nodes=node_list, edges=adj_list)"
   ]
  },
  {
   "cell_type": "code",
   "execution_count": 3,
   "metadata": {},
   "outputs": [
    {
     "data": {
      "text/plain": [
       "array([[0., 0., 0.],\n",
       "       [0., 0., 0.],\n",
       "       [0., 0., 0.]])"
      ]
     },
     "execution_count": 3,
     "metadata": {},
     "output_type": "execute_result"
    }
   ],
   "source": [
    "np.zeros(shape=(3, 3))"
   ]
  },
  {
   "cell_type": "code",
   "execution_count": null,
   "metadata": {},
   "outputs": [],
   "source": []
  }
 ],
 "metadata": {
  "kernelspec": {
   "display_name": "ML",
   "language": "python",
   "name": "python3"
  },
  "language_info": {
   "codemirror_mode": {
    "name": "ipython",
    "version": 3
   },
   "file_extension": ".py",
   "mimetype": "text/x-python",
   "name": "python",
   "nbconvert_exporter": "python",
   "pygments_lexer": "ipython3",
   "version": "3.11.2"
  }
 },
 "nbformat": 4,
 "nbformat_minor": 2
}
