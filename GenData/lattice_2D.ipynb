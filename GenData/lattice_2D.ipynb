{
 "cells": [
  {
   "cell_type": "code",
   "execution_count": 25,
   "metadata": {},
   "outputs": [],
   "source": [
    "import numpy as np\n",
    "import networkx as nx\n",
    "import matplotlib.pyplot as plt\n",
    "from tqdm import tqdm\n",
    "import os\n",
    "import matplotlib as mpl\n",
    "\n",
    "mpl.rcParams[\"font.size\"] = 18\n",
    "mpl.rcParams['mathtext.fontset'] = 'stix'\n",
    "mpl.rcParams['font.family'] = 'STIXGeneral'"
   ]
  },
  {
   "cell_type": "code",
   "execution_count": 26,
   "metadata": {},
   "outputs": [],
   "source": [
    "def draw_graph(adj_list, positions, axis=False, edges=True, node_size=3, save=False, file_name=\"\"):\n",
    "    '''\n",
    "    Draws graph with given nodes and edges. \n",
    "\n",
    "    Args:\n",
    "        adj_list (iterable) :   adjacency list (not to be confused with adjacency matrix), shape=[number of edges, 2]\n",
    "                                e.g adj_list[i] = (j, k) -> i-th edge (in edges) connects node j with node k (in nodes)\n",
    "        positions (iterable)    : shape=[number of nodes, 2], positions[i] = (x, y) -> x,y-positition of node i (in nodes)\n",
    "    \n",
    "    Optional args:\n",
    "        axis (bool)             : if True, plots axis (default: False)\n",
    "        node_size (float)       : size of nodes in plot (default: 3)\n",
    "    \n",
    "    Todo:\n",
    "        Introduce colorbar for node/edge values (currently, node/edge values not supported)\n",
    "    '''\n",
    "\n",
    "    edge_coordinates = np.array([[positions[edge[0]], positions[edge[1]]] for edge in adj_list])\n",
    "    fig = plt.figure(figsize=(7, 7))\n",
    "    ax = fig.add_subplot()\n",
    "    ax.scatter(*positions.T, s=node_size) #.T-> shape=(2, num_nodes), *-> 2 seperate lists with num_nodes elements each\n",
    "    if edges:\n",
    "        for edge in edge_coordinates: #edge shape = (2, 2)\n",
    "            ax.plot(*edge.T, c=\"dimgrey\", alpha=0.5)\n",
    "    #ax.set_xlim(-10, 10)\n",
    "    #ax.set_ylim(-10, 10)\n",
    "    if not axis:\n",
    "        ax.tick_params(left=False, bottom=False, labelleft=False, labelbottom=False)\n",
    "        plt.axis('off')\n",
    "    if save:\n",
    "        fig.savefig(file_name, dpi=300, bbox_inches=\"tight\")"
   ]
  },
  {
   "cell_type": "code",
   "execution_count": 3,
   "metadata": {},
   "outputs": [],
   "source": [
    "def genLatticeNodes(len_ex, len_ey, theta, centered=False, nx_max=20, ny_max=20):\n",
    "    '''\n",
    "    Generates Bravais-lattice (https://en.wikipedia.org/wiki/Bravais_lattice). Only computes node-positions. To obtain edges, use genAdjacencyList.\n",
    "\n",
    "    Args:\n",
    "        len_ex (float)      :   length of first unit vector \n",
    "        len_ey (float)      :   length of second unit vector\n",
    "        theta (float)       :   specifies the angle between first and second unit vector\n",
    "    \n",
    "    Optional args:\n",
    "        nx_max (int)            :   number of nodes in x-direction (direction of the first unit vector), default: 20\n",
    "        ny_max (int)            :   number of nodes in y-direction (direction of the second unit vector), default: 20\n",
    "        centered (bool)         :   TODO, default: false\n",
    "\n",
    "    Returns:\n",
    "        pos (iterable)      :   nodes positions, shape=[num_nodes, 2] \n",
    "        transform           :   transformation matrix (shape=[2, 2])                     \n",
    "    '''\n",
    "    e_x = len_ex*np.array([1, 0], dtype=float)\n",
    "    e_y = len_ey*np.array([np.cos(theta), np.sin(theta)], dtype=float)\n",
    "    transform = np.array([e_x, e_y]).T\n",
    "    transform_inv = np.linalg.inv(transform)\n",
    "\n",
    "    integer_pos = np.array(np.meshgrid(np.arange(0, nx_max), np.arange(0, ny_max)), dtype=float).T.reshape(-1, 2) #shape=(num_nodes, 2)\n",
    "    \n",
    "    if centered:\n",
    "       int_pos_shifted = [1/2, 1/2] + np.array(np.meshgrid(np.arange(0, nx_max - 1), np.arange(0, ny_max - 1)), dtype=float).T.reshape(-1, 2)\n",
    "       integer_pos = np.concatenate((integer_pos, int_pos_shifted), dtype=float) \n",
    "\n",
    "    #transform integer positions to real positions\n",
    "    pos = np.array([transform@p for p in integer_pos])\n",
    "\n",
    "    return pos, transform, transform_inv"
   ]
  },
  {
   "cell_type": "code",
   "execution_count": 4,
   "metadata": {},
   "outputs": [],
   "source": [
    "def posMod(pos, mod_x=10, mod_y=10):\n",
    "    '''\n",
    "    Restricts positions to certain range.\n",
    "\n",
    "    Args:\n",
    "        pos (iterable)  :   Array of positions which will be restricted\n",
    "        mod_x (float)   :   maximum x-position\n",
    "        mod_y (float)   :   maximum y-position\n",
    "\n",
    "    Returns:\n",
    "        pos (iterable)  :   Restricted positions\n",
    "\n",
    "    '''\n",
    "    pos[:, 0] = pos[:, 0] % mod_x\n",
    "    pos[:, 1] = pos[:, 1] % mod_y\n",
    "    return pos"
   ]
  },
  {
   "cell_type": "code",
   "execution_count": 5,
   "metadata": {},
   "outputs": [],
   "source": [
    "def genAdjacencyList(positions, radius, transform_inv, p=2):\n",
    "    '''\n",
    "    Generates adjacency list of given lattice according to the following rule: If node j lies in circle with given radius around node i, then (i, j) is appended to adjancency list.\n",
    "    \n",
    "    Args:\n",
    "        positions (iterable)    :   nodes positions, shape=[num_nodes, 2]\n",
    "        radius (float)          :   radius of the circle with which neighbors are determined\n",
    "\n",
    "    Returns:\n",
    "        adj_list (iterable) :   adjacency list (shape=[num_nodes, 2]),\n",
    "                                e.g adj_list[i] = (j, k) -> i-th edge (in edges) connects node j with node k (in nodes)\n",
    "    '''\n",
    "    pos_inv = np.array([transform_inv@p for p in positions])\n",
    "    adj_list = np.empty(shape=(0, 2), dtype=int)\n",
    "    num_nodes = len(pos_inv)\n",
    "\n",
    "    for n in range(num_nodes):\n",
    "        node_center_pos = pos_inv[n, :]\n",
    "        dist = np.sum(np.abs((pos_inv - node_center_pos))**p, axis=1)\n",
    "        dist[n] = radius + 1 #-> no edges (n,n)\n",
    "        \n",
    "        in_sphere_ind = np.array(np.nonzero((dist < radius**p))).reshape(-1, 1)\n",
    "        edges = np.concatenate((np.full(shape=(len(in_sphere_ind), 1), fill_value=n), in_sphere_ind), axis=1)\n",
    "        adj_list = np.concatenate((adj_list, edges))\n",
    "\n",
    "    return adj_list"
   ]
  },
  {
   "cell_type": "code",
   "execution_count": 6,
   "metadata": {},
   "outputs": [],
   "source": [
    "def addNoise(arr, mu, sigma, scale_x, scale_y):\n",
    "    '''\n",
    "    Adds normal distributed noise to given array.\n",
    "    \n",
    "    Args:\n",
    "        arr (iterable)      :   array on which values noise is added (shape=[-1, 2])\n",
    "        mu (float)          :   mean value of normal distributed noise\n",
    "        sigma (float)       :   standard deviation\n",
    "        scale_x/y (float)   :   scaling factor   \n",
    "    \n",
    "    Returns:\n",
    "        arr (iterable)  :   noisy positions\n",
    "    '''\n",
    "    \n",
    "    arr[:, 0] += scale_x*np.random.normal(mu, sigma, size=len(arr))\n",
    "    arr[:, 1] += scale_y*np.random.normal(mu, sigma, size=len(arr))\n",
    "\n",
    "    return arr"
   ]
  },
  {
   "cell_type": "code",
   "execution_count": 7,
   "metadata": {},
   "outputs": [],
   "source": [
    "def rotateLattice(pos, alpha):\n",
    "    '''\n",
    "    Rotates position by alpha degress around origin.\n",
    "    \n",
    "    Args:\n",
    "        pos (iterable)  :   shape=[-1, 2], shape[i] = (x, y)\n",
    "        alpha (float)   :   angle (in radians)\n",
    "    \n",
    "    Returns:\n",
    "        pos_ (iterable) :   rotated positions\n",
    "    '''\n",
    "    e_x_rot = np.array([np.cos(alpha), np.sin(alpha)])\n",
    "    e_y_rot = np.array([np.cos(alpha+np.pi/2), np.sin(alpha+np.pi/2)])\n",
    "    rotMat = np.array([e_x_rot, e_y_rot], dtype=float).T\n",
    "    pos_ = np.array([rotMat@p for p in pos])\n",
    "    return pos_"
   ]
  },
  {
   "cell_type": "code",
   "execution_count": 8,
   "metadata": {},
   "outputs": [],
   "source": [
    "def saveLattice(filename, nodes, edges, adj_list, label, positions=list()):\n",
    "    '''\n",
    "    Saves lattice to .npz file.\n",
    "    \n",
    "    Args:\n",
    "        filename (string)   :   file to save to\n",
    "        nodes (iterable)    :   node values\n",
    "        edges (iterable)    :   edge values\n",
    "        adj_list (iterable) :   adjacency list (see also draw_graph()), shape=[number of edges, 2]\n",
    "        label (iterable)    :   label (can later be used for classifying the graph), shape is arbitrary\n",
    "                                e.g. if the graphs should be classified in distinct categories, then label=[i] (i represents category), would be a reasonable choice \n",
    "\n",
    "    Optional args:\n",
    "        positions (iterable)    :   nodes positions, if empty, no positions will be stored, default: empty\n",
    "    '''\n",
    "\n",
    "    if len(positions) > 0:\n",
    "        if len(positions)!=len(nodes):\n",
    "           print(\"Error: len(positions) != len(nodes)\")\n",
    "           return\n",
    "        np.savez(filename, nodes=nodes, edges=edges, adj_list=adj_list, label=label, positions=positions)\n",
    "    else:\n",
    "        if len(edges)!=len(adj_list):\n",
    "            print(\"Error: len(edges) != len(adj_list)\")\n",
    "            return \n",
    "        np.savez(filename, nodes=nodes, edges=edges, label=label, adj_list=adj_list)"
   ]
  },
  {
   "cell_type": "code",
   "execution_count": 9,
   "metadata": {},
   "outputs": [],
   "source": [
    "def removeEdges(index_set, adj_list):\n",
    "    if len(index_set) == 0:\n",
    "        return adj_list\n",
    "    index_set_rev = np.zeros(shape=(len(index_set), ), dtype=int)\n",
    "    for i in range(len(index_set)):\n",
    "        removed_edge = adj_list[index_set[i]]\n",
    "        #print(removed_edge.shape)\n",
    "        #print(np.nonzero(np.sum(adj_list==np.flip(removed_edge), axis=1)==2)[0])\n",
    "        index_set_rev[i] = np.nonzero(np.sum(adj_list==np.flip(removed_edge), axis=1)==2)[0][0]\n",
    "        \n",
    "    return np.delete(adj_list, np.concatenate((index_set, index_set_rev)), axis=0)\n",
    "\n",
    "def removeNodes(index_set, pos, adj_list):\n",
    "    if len(index_set) == 0:\n",
    "        return pos, adj_list\n",
    "    \n",
    "    pos = np.delete(pos, index_set, axis=0)\n",
    "\n",
    "    for index in np.flip(np.sort(index_set)):\n",
    "        ind_to_remove, = np.nonzero(np.sum(adj_list==index, axis=1))\n",
    "        adj_list = removeEdges(ind_to_remove, adj_list)\n",
    "        mask = adj_list > index\n",
    "        adj_list[mask] -= 1\n",
    "\n",
    "    return pos, adj_list"
   ]
  },
  {
   "cell_type": "code",
   "execution_count": 10,
   "metadata": {},
   "outputs": [],
   "source": [
    "def countNeighbors(adj_list, node_index):\n",
    "    '''\n",
    "    Computes the number of nearest neighbors of one specific node. \n",
    "    Attention: If (node_index, j) is in the adjacency list, then j is regarded as a neighbor. \n",
    "    However, if (j, node_index) is in the adjacency list, then j is not regarded as a neighbor.\n",
    "\n",
    "    Args:\n",
    "        adj_list (iterable) :   adjacency list, shape=[number of nodes, 2]\n",
    "        node_index (int)    :   the node index to look at\n",
    "    \n",
    "    Return:\n",
    "        num_neighbors (int) :   number of neighbors of node with indes node_index\n",
    "    '''\n",
    "    num_neighbors = 0\n",
    "    for edge in adj_list:\n",
    "        if edge[0] == node_index:\n",
    "            num_neighbors += 1\n",
    "    return num_neighbors"
   ]
  },
  {
   "cell_type": "code",
   "execution_count": 11,
   "metadata": {},
   "outputs": [],
   "source": [
    "def createNodeValues(num_nodes):\n",
    "    #currently: zeros\n",
    "    return np.ones(shape=(num_nodes, 1))\n",
    "\n",
    "def createEdgeValues(adj_list, positions):\n",
    "    #currently: position end node - position start node\n",
    "    values_edges = np.zeros(shape=(len(adj_list), 2))\n",
    "    for e in range(len(adj_list)):\n",
    "        values_edges[e, :] = positions[adj_list[e, 1]] - positions[adj_list[e, 0]]\n",
    "    return values_edges"
   ]
  },
  {
   "cell_type": "code",
   "execution_count": null,
   "metadata": {},
   "outputs": [],
   "source": []
  },
  {
   "cell_type": "code",
   "execution_count": 12,
   "metadata": {},
   "outputs": [],
   "source": [
    "def dropoutIndices(num_indices, dropout_rate):\n",
    "    r = np.random.uniform(low=0, high=1, size=(num_indices, ))\n",
    "    return np.nonzero(r < dropout_rate)[0]"
   ]
  },
  {
   "cell_type": "code",
   "execution_count": 33,
   "metadata": {},
   "outputs": [
    {
     "name": "stdout",
     "output_type": "stream",
     "text": [
      "square\n"
     ]
    },
    {
     "name": "stderr",
     "output_type": "stream",
     "text": [
      "100%|██████████| 10000/10000 [00:48<00:00, 207.25it/s]\n"
     ]
    },
    {
     "name": "stdout",
     "output_type": "stream",
     "text": [
      "rectangular\n"
     ]
    },
    {
     "name": "stderr",
     "output_type": "stream",
     "text": [
      "100%|██████████| 10000/10000 [01:02<00:00, 160.92it/s]\n"
     ]
    },
    {
     "name": "stdout",
     "output_type": "stream",
     "text": [
      "rectangular_centered\n"
     ]
    },
    {
     "name": "stderr",
     "output_type": "stream",
     "text": [
      "100%|██████████| 10000/10000 [01:58<00:00, 84.31it/s]\n"
     ]
    },
    {
     "name": "stdout",
     "output_type": "stream",
     "text": [
      "oblique\n"
     ]
    },
    {
     "name": "stderr",
     "output_type": "stream",
     "text": [
      "100%|██████████| 10000/10000 [00:34<00:00, 291.23it/s]\n"
     ]
    },
    {
     "name": "stdout",
     "output_type": "stream",
     "text": [
      "hexagonal\n"
     ]
    },
    {
     "name": "stderr",
     "output_type": "stream",
     "text": [
      "100%|██████████| 10000/10000 [00:30<00:00, 328.49it/s]"
     ]
    },
    {
     "name": "stdout",
     "output_type": "stream",
     "text": [
      "Done\n"
     ]
    },
    {
     "name": "stderr",
     "output_type": "stream",
     "text": [
      "\n"
     ]
    }
   ],
   "source": [
    "# generate N graphs for each lattice type \n",
    "\n",
    "square_settings = {\n",
    "    \"name\" : \"square\",\n",
    "    \"equally_scaled\" : True,\n",
    "    \"scale_off\" : [0.99, 1.01],\n",
    "    \"theta\" : [0.99*np.pi/2, 1.01*np.pi/2],\n",
    "    \"label\" : [1, 0, 0, 0, 0]\n",
    "}\n",
    "rectangular_settings = {\n",
    "    \"name\" : \"rectangular\",\n",
    "    \"equally_scaled\" : False,\n",
    "    \"theta\" : [0.99*np.pi/2, 1.01*np.pi/2],\n",
    "    \"label\" : [0, 1, 0, 0, 0]\n",
    "}\n",
    "rectangular_centered_settings = {\n",
    "    \"name\" : \"rectangular_centered\",\n",
    "    \"equally_scaled\" : False,\n",
    "    \"theta\" : [0.99*np.pi/2, 1.01*np.pi/2],\n",
    "    \"label\" : [0, 0, 1, 0, 0]\n",
    "}\n",
    "oblique_settings = {\n",
    "    \"name\" : \"oblique\",\n",
    "    \"equally_scaled\" : False,\n",
    "    \"theta\" : [0.01*np.pi, 0.99*np.pi],\n",
    "    \"label\" : [0, 0, 0, 1, 0]\n",
    "}\n",
    "hexagonal_settings = {\n",
    "    \"name\" : \"hexagonal\",\n",
    "    \"equally_scaled\" : True,\n",
    "    \"scale_off\" : [0.99, 1.01],\n",
    "    \"theta\" : [0.99*2*np.pi/3, 1.01*2*np.pi/3],\n",
    "    \"label\" : [0, 0, 0, 0, 1]\n",
    "}\n",
    "\n",
    "settings = [square_settings, rectangular_settings, rectangular_centered_settings, oblique_settings, hexagonal_settings]\n",
    "\n",
    "N = 10000\n",
    "p_norm = 2\n",
    "mu = 0\n",
    "sigma = 0.5\n",
    "scale = 0.07\n",
    "len_min = 0.1\n",
    "len_max = 10\n",
    "radius = 1.05\n",
    "node_dropout_rate = 0.01\n",
    "edge_dropout_rate = 0.01\n",
    "\n",
    "for setting in settings:\n",
    "    lattice_type = setting[\"name\"]\n",
    "    print(lattice_type)\n",
    "    if not os.path.isdir(f\"Data2d/{lattice_type}\"):\n",
    "        os.mkdir(f\"Data2d/{lattice_type}\")\n",
    "\n",
    "    hexagonal = (lattice_type == \"hexagonal\")\n",
    "    theta = np.random.uniform(low=setting[\"theta\"][0], high=setting[\"theta\"][1], size=(N, ))\n",
    "    rotate_deg = np.random.uniform(low=0, high=np.pi, size=(N, ))\n",
    "    equally_scaled = setting[\"equally_scaled\"]\n",
    "    len_ex = np.random.uniform(low=len_min, high=len_max, size=(N, ))\n",
    "    len_ey = np.random.uniform(low=len_min, high=len_max, size=(N, ))\n",
    "    if equally_scaled:\n",
    "        scale_off = setting[\"scale_off\"]\n",
    "        len_ey = len_ex*np.random.uniform(low=scale_off[0], high=scale_off[1], size=(N, ))\n",
    "\n",
    "    for n in tqdm(range(N)):\n",
    "        #skip edge cases\n",
    "        if lattice_type == \"rectangular\" and (len_ey[n]/len_ex[n]<=square_settings[\"scale_off\"][1]) and (len_ey[n]/len_ex[n] >= square_settings[\"scale_off\"][0]):\n",
    "            #for rectangles, we should have len_ey!=len_ex\n",
    "            continue\n",
    "        elif lattice_type == \"oblique\" and (theta[n] <= rectangular_settings[\"theta\"][1]) and (theta[n] >= rectangular_settings[\"theta\"][0]):\n",
    "            #for oblique, we should have theta!=pi/2\n",
    "            continue\n",
    "        \n",
    "        pos, transform, transform_inv = -1, -1, -1\n",
    "        if lattice_type==\"rectangular_centered\":\n",
    "            pos, transform, transform_inv = genLatticeNodes(len_ex[n], len_ey[n], theta[n], centered=True, nx_max=10, ny_max=10)\n",
    "        else:\n",
    "            pos, transform, transform_inv = genLatticeNodes(len_ex[n], len_ey[n], theta[n], nx_max=10, ny_max=10)\n",
    "        pos = posMod(pos, len_ex[n]*10, len_ey[n]*10)\n",
    "        pos = addNoise(pos, mu, sigma, scale*len_ex[n], scale*len_ey[n])\n",
    "        adj_list = genAdjacencyList(pos, radius + scale, transform_inv, p=p_norm)\n",
    "        \n",
    "        pos, adj_list = removeNodes(dropoutIndices(len(pos), node_dropout_rate), pos, adj_list)\n",
    "        adj_list = removeEdges(dropoutIndices(len(adj_list), edge_dropout_rate), adj_list)\n",
    "        pos = rotateLattice(pos, rotate_deg[n])\n",
    "        \n",
    "        values_nodes = createNodeValues(len(pos)) #shape=[num_nodes, num_node_features]\n",
    "        values_edges = createEdgeValues(adj_list, pos) #shape=[num_edges, num_edge_features]\n",
    "\n",
    "        label = np.array([setting[\"label\"]])\n",
    "       \n",
    "        saveLattice(f\"Data2d/{lattice_type}/{lattice_type}_{n}.npz\", values_nodes, values_edges, adj_list, label, pos)   \n",
    "\n",
    "print(\"Done\")"
   ]
  },
  {
   "cell_type": "code",
   "execution_count": 27,
   "metadata": {},
   "outputs": [
    {
     "name": "stdout",
     "output_type": "stream",
     "text": [
      "KeysView(NpzFile 'Data2d/square/square_1003.npz' with keys: nodes, edges, adj_list, label, positions)\n",
      "label:  [[1 0 0 0 0]]\n"
     ]
    },
    {
     "data": {
      "image/png": "[encoded data removed]",
      "text/plain": [
       "<Figure size 700x700 with 1 Axes>"
      ]
     },
     "metadata": {},
     "output_type": "display_data"
    }
   ],
   "source": [
    "# quick check that generation works\n",
    "graph = np.load(\"Data2d/square/square_1003.npz\")\n",
    "print(graph.keys())\n",
    "print(\"label: \", graph[\"label\"])\n",
    "node_values = graph[\"nodes\"]\n",
    "edge_values = graph[\"edges\"]\n",
    "adj_list = graph[\"adj_list\"]\n",
    "pos = graph[\"positions\"]\n",
    "draw_graph(adj_list, pos, axis=True, edges=True, node_size=40, save=True, file_name=\"square2d.png\")"
   ]
  },
  {
   "cell_type": "code",
   "execution_count": null,
   "metadata": {},
   "outputs": [],
   "source": []
  },
  {
   "cell_type": "code",
   "execution_count": null,
   "metadata": {},
   "outputs": [],
   "source": []
  }
 ],
 "metadata": {
  "kernelspec": {
   "display_name": "ML",
   "language": "python",
   "name": "python3"
  },
  "language_info": {
   "codemirror_mode": {
    "name": "ipython",
    "version": 3
   },
   "file_extension": ".py",
   "mimetype": "text/x-python",
   "name": "python",
   "nbconvert_exporter": "python",
   "pygments_lexer": "ipython3",
   "version": "3.11.2"
  }
 },
 "nbformat": 4,
 "nbformat_minor": 2
}
