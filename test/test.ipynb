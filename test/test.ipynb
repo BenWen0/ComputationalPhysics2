{
 "cells": [
  {
   "cell_type": "code",
   "execution_count": 1,
   "metadata": {},
   "outputs": [],
   "source": [
    "import numpy as np\n",
    "import networkx as nx\n",
    "import matplotlib.pyplot as plt"
   ]
  },
  {
   "cell_type": "code",
   "execution_count": 2,
   "metadata": {},
   "outputs": [],
   "source": [
    "def draw_graph(nodes, edges, adj_list, positions=list(), axis=False, node_size=3):\n",
    "    #https://distill.pub/2021/gnn-intro/\n",
    "    #nodes = values of nodes\n",
    "    #edges = values of edges\n",
    "    #adj_list = which edges connects which nodes, e.g if adj_list[3]=(1, 5) then the third edge in edges connects node 1 and 5\n",
    "    num_nodes = len(nodes)\n",
    "    pos_given = len(positions)>0\n",
    "    if pos_given and num_nodes != len(positions):\n",
    "        print(\"hoppala\")\n",
    "        return -1\n",
    "    \n",
    "    num_edges = len(edges)\n",
    "    if num_edges != len(adj_list):\n",
    "        print(\"ups\")\n",
    "        return -1\n",
    "\n",
    "    G = nx.Graph()\n",
    "    for n in range(num_nodes):\n",
    "        if pos_given:\n",
    "            G.add_node(n, n_value=nodes[n], pos=positions[n])\n",
    "        else:\n",
    "            G.add_node(n, n_value=nodes[n])\n",
    "    for e in range(num_edges):\n",
    "        G.add_edge(adj_list[e][0], adj_list[e][1], e_value=edges[e])\n",
    "\n",
    "    pos_nodes =nx.get_node_attributes(G,'pos')\n",
    "\n",
    "    if axis:\n",
    "        fig = plt.figure()\n",
    "        ax = fig.add_subplot()\n",
    "        if pos_given:\n",
    "            nx.draw(G, pos=pos_nodes, ax=ax, node_size=node_size)\n",
    "        else:\n",
    "            nx.draw(G, ax=ax, node_size=node_size)\n",
    "        ax.tick_params(left=True, bottom=True, labelleft=True, labelbottom=True)\n",
    "        plt.axis('on')\n",
    "    else:\n",
    "        if len(positions)>0:\n",
    "            nx.draw(G, pos=pos_nodes, node_size=node_size)\n",
    "        else:\n",
    "            nx.draw(G, node_size=node_size)"
   ]
  },
  {
   "cell_type": "code",
   "execution_count": 3,
   "metadata": {},
   "outputs": [],
   "source": [
    "def genLattice(len_ex, len_ey, frac_theta, nx_max=20, ny_max=20, hexagonal=False, remove_center=False):\n",
    "    '''\n",
    "    Nummerierung nodes:\n",
    "    8   9   ....\n",
    "    4   5   6   7\n",
    "    0   1   2   3\n",
    "    '''\n",
    "    theta = 2*np.pi/frac_theta\n",
    "    e_x = len_ex*np.array([1, 0], dtype=float)\n",
    "    e_y = len_ey*np.array([np.cos(theta), np.sin(theta)], dtype=float)\n",
    "    num_nodes = nx_max*ny_max\n",
    "\n",
    "    #indices\n",
    "    ind_pos = np.zeros(shape=(num_nodes, 2))\n",
    "    ind_pos[:, 0] = np.tile(np.arange(0, nx_max), ny_max)\n",
    "    ind_pos[:, 1] = np.array([nx_max*[y] for y in range(ny_max)]).flatten()\n",
    "\n",
    "    #positions\n",
    "    pos = np.zeros(shape=(num_nodes, 2))\n",
    "    for n in range(num_nodes):\n",
    "        pos[n, :] = ind_pos[n, 0]*e_x + ind_pos[n, 1]*e_y\n",
    "\n",
    "    #edges, adj_list\n",
    "    adj_list = np.array([])\n",
    "    num_edges = 0\n",
    "\n",
    "    if hexagonal==True:\n",
    "        num_edges = ny_max*(nx_max - 1) + nx_max*(ny_max - 1) + (nx_max-1)*(ny_max-1)\n",
    "        adj_list = np.zeros(shape=(num_edges, 2), dtype=int)\n",
    "        ind_edge = 0\n",
    "        for x in range(0, nx_max):\n",
    "            for y in range(0, ny_max):\n",
    "                ind_center = y*nx_max + x\n",
    "                ind = [ind_center, ind_center + nx_max, ind_center + 1, ind_center + nx_max + 1] #center, up, right, diag\n",
    "                edge_possible = [True, True, True] #up, right\n",
    "                if x == nx_max - 1:\n",
    "                    edge_possible[1] = False\n",
    "                    edge_possible[2] = False\n",
    "                if y == ny_max - 1:\n",
    "                    edge_possible[0] = False\n",
    "                    edge_possible[2] = False\n",
    "                for dir in range(3):\n",
    "                    if edge_possible[dir]:\n",
    "                        adj_list[ind_edge] = [ind[0], ind[dir + 1]]\n",
    "                        ind_edge += 1\n",
    "    else:\n",
    "        num_edges = ny_max*(nx_max - 1) + nx_max*(ny_max - 1)\n",
    "        adj_list = np.zeros(shape=(num_edges, 2), dtype=int)\n",
    "        ind_edge = 0\n",
    "        for x in range(0, nx_max):\n",
    "            for y in range(0, ny_max):\n",
    "                ind_center = y*nx_max + x\n",
    "                ind = [ind_center, ind_center + nx_max, ind_center + 1] #center, up, right\n",
    "                edge_possible = [True, True] #up, right\n",
    "                if x == nx_max - 1:\n",
    "                    edge_possible[1] = False\n",
    "                if y == ny_max - 1:\n",
    "                    edge_possible[0] = False\n",
    "                for dir in range(2):\n",
    "                    if edge_possible[dir]:\n",
    "                        adj_list[ind_edge] = [ind[0], ind[dir + 1]]\n",
    "                        ind_edge += 1\n",
    "    \n",
    "    if remove_center:\n",
    "        pos_to_remove = list()\n",
    "        for x in range(0, nx_max):\n",
    "            y_off = (3-x) % 3\n",
    "            for y in range(y_off, ny_max, 3):\n",
    "                pos_to_remove.append([x, y])\n",
    "        ind_to_remove = list([pos[0] + pos[1]*nx_max for pos in pos_to_remove])\n",
    "        mask = np.array([i in ind_to_remove for i in range(num_nodes)]) #True if element should be removed\n",
    "        mask_edges = np.array([((e[0] in ind_to_remove) or (e[1] in ind_to_remove)) for e in adj_list]) #True if edge should be removed\n",
    "\n",
    "        adj_list = adj_list[~mask_edges]\n",
    "        num_edges -= np.count_nonzero(mask_edges)\n",
    "        num_nodes -= np.count_nonzero(mask)\n",
    "\n",
    "        for e in adj_list: #shift (deleting nodes = indices of nodes change)\n",
    "            e[0] -= np.count_nonzero(mask[:e[0]])\n",
    "            e[1] -= np.count_nonzero(mask[:e[1]])\n",
    "            \n",
    "        pos = pos[~mask]\n",
    "    \n",
    "    return num_nodes, num_edges, adj_list, pos"
   ]
  },
  {
   "cell_type": "code",
   "execution_count": 4,
   "metadata": {},
   "outputs": [],
   "source": [
    "def addNoise(pos, mu, sigma, scale):\n",
    "    pos_ = pos + scale*np.random.normal(mu, sigma, size=pos.shape)\n",
    "    return pos_"
   ]
  },
  {
   "cell_type": "code",
   "execution_count": 5,
   "metadata": {},
   "outputs": [],
   "source": [
    "def rotateLattice(pos, alpha):\n",
    "    rotMat = np.array(\n",
    "        [[np.cos(alpha), -np.sin(alpha)], \n",
    "        [np.sin(alpha), np.cos(alpha)]])\n",
    "    pos_ = np.zeros(shape=pos.shape)\n",
    "    for i in range(len(pos)):\n",
    "        pos_[i, :] = np.matmul(rotMat, pos[i, :])\n",
    "    return pos_"
   ]
  },
  {
   "cell_type": "code",
   "execution_count": 10,
   "metadata": {},
   "outputs": [
    {
     "data": {
      "image/png": "[encoded data removed]",
      "text/plain": [
       "<Figure size 640x480 with 1 Axes>"
      ]
     },
     "metadata": {},
     "output_type": "display_data"
    }
   ],
   "source": [
    "num_nodes, num_edges, adj_list, pos = genLattice(1, 1, 3, nx_max=10, ny_max=10, hexagonal=True, remove_center=True)\n",
    "pos_ = addNoise(pos, 0, 0.5, 0)\n",
    "pos_ = rotateLattice(pos_, 2*np.pi/2)\n",
    "\n",
    "values_nodes = np.arange(num_nodes)\n",
    "values_edges = np.arange(num_edges)\n",
    "draw_graph(np.arange(num_nodes), np.arange(num_edges), adj_list, positions=pos_, node_size=40, axis=True)"
   ]
  },
  {
   "cell_type": "code",
   "execution_count": null,
   "metadata": {},
   "outputs": [],
   "source": []
  },
  {
   "cell_type": "code",
   "execution_count": 46,
   "metadata": {},
   "outputs": [
    {
     "name": "stdout",
     "output_type": "stream",
     "text": [
      "1\n"
     ]
    }
   ],
   "source": [
    "a = np.array([True, False, False])\n",
    "print(np.count_nonzero(a))"
   ]
  },
  {
   "cell_type": "code",
   "execution_count": null,
   "metadata": {},
   "outputs": [],
   "source": []
  },
  {
   "cell_type": "code",
   "execution_count": null,
   "metadata": {},
   "outputs": [],
   "source": []
  },
  {
   "cell_type": "code",
   "execution_count": null,
   "metadata": {},
   "outputs": [],
   "source": []
  }
 ],
 "metadata": {
  "kernelspec": {
   "display_name": "ML",
   "language": "python",
   "name": "python3"
  },
  "language_info": {
   "codemirror_mode": {
    "name": "ipython",
    "version": 3
   },
   "file_extension": ".py",
   "mimetype": "text/x-python",
   "name": "python",
   "nbconvert_exporter": "python",
   "pygments_lexer": "ipython3",
   "version": "3.11.2"
  }
 },
 "nbformat": 4,
 "nbformat_minor": 2
}
