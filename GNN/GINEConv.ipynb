{
 "cells": [
  {
   "cell_type": "code",
   "execution_count": 186,
   "metadata": {},
   "outputs": [],
   "source": [
    "import torch\n",
    "import torch_geometric\n",
    "from torch_geometric.data import Data\n",
    "from torch_geometric.datasets import TUDataset\n",
    "from torch_geometric.loader import DataLoader\n",
    "import numpy as np\n",
    "from tqdm import tqdm"
   ]
  },
  {
   "cell_type": "code",
   "execution_count": 187,
   "metadata": {},
   "outputs": [],
   "source": [
    "def graphToData(file):\n",
    "    #data.x: Node feature matrix with shape [num_nodes, num_node_features]\n",
    "    #data.edge_index: Graph connectivity in COO format with shape [2, num_edges] and type torch.long\n",
    "    #data.edge_attr: Edge feature matrix with shape [num_edges, num_edge_features]\n",
    "    #data.y: Target to train against (may have arbitrary shape), e.g., node-level targets of shape [num_nodes, *] or graph-level targets of shape [1, *]\n",
    "    #data.pos: Node position matrix with shape [num_nodes, num_dimensions]\n",
    "\n",
    "    graph = np.load(file)\n",
    "    label = torch.tensor(graph[\"label\"]) #shape=[1, ]\n",
    "    node_values = torch.tensor(graph[\"nodes\"], dtype=torch.float) #shape=[num_nodes, 1]\n",
    "    edge_values = torch.tensor(graph[\"edges\"], dtype=torch.float) #shape=[num_edges, 2]\n",
    "    adj_list = torch.tensor(graph[\"adj_list\"], dtype=torch.long) #shape=[num_edges, 2] <- needs to be reshaped (see pyg doc)\n",
    "    positions = torch.tensor(graph[\"positions\"], dtype=torch.float) #shape=[num_nodes, 2]\n",
    "    \n",
    "    return Data(x=node_values, edge_index=adj_list.t().contiguous(), edge_attr=edge_values, y=label, pos=positions)\n",
    "\n",
    "def loadData():\n",
    "\n",
    "    graphs = list()\n",
    "    print(\"load squares\")\n",
    "    for i in tqdm(range(200)):\n",
    "        file = f\"../GenData/squares/square_{i}.npz\"\n",
    "        graphs.append(graphToData(file))\n",
    "    \n",
    "    print(\"load rectangles\")\n",
    "    for i in tqdm(range(200)):\n",
    "        file = f\"../GenData/rectangles/rectangular_{i}.npz\"\n",
    "        graphs.append(graphToData(file))\n",
    "    \n",
    "    print(\"load hexagons\")\n",
    "    for i in tqdm(range(200)):\n",
    "        file = f\"../GenData/hexagons/hexagonal_{i}.npz\"\n",
    "        graphs.append(graphToData(file))\n",
    "    \n",
    "    print(\"load oblique\")\n",
    "    for i in tqdm(range(200)):\n",
    "        file = f\"../GenData/oblique/oblique_{i}.npz\"\n",
    "        graphs.append(graphToData(file))\n",
    "\n",
    "    return graphs\n",
    "        "
   ]
  },
  {
   "cell_type": "code",
   "execution_count": 188,
   "metadata": {},
   "outputs": [],
   "source": [
    "class gineConv(torch.nn.Module):\n",
    "    def __init__(self, in_channels, num_classes, edge_dim):\n",
    "        super().__init__()\n",
    "\n",
    "        self.nn_1 = torch.nn.Sequential(\n",
    "            torch.nn.Linear(in_features=in_channels, out_features=10, bias=True),\n",
    "            torch.nn.ReLU(),\n",
    "            torch.nn.Linear(10, 10),\n",
    "            torch.nn.ReLU(),\n",
    "            torch.nn.Linear(10, 10)\n",
    "        )\n",
    "\n",
    "        self.nn_2 = torch.nn.Sequential(\n",
    "            torch.nn.Linear(in_features=20, out_features=30, bias=True),\n",
    "            torch.nn.ReLU(),\n",
    "            torch.nn.Linear(30, 30),\n",
    "            torch.nn.ReLU(),\n",
    "            torch.nn.Linear(30, 30)\n",
    "        )\n",
    "\n",
    "        self.gine_conv1 = torch_geometric.nn.GINEConv(nn=self.nn_1, train_eps=True, edge_dim = edge_dim)\n",
    "        self.gine_conv2 = torch_geometric.nn.GINEConv(nn=self.nn_2, train_eps=True, edge_dim = edge_dim)\n",
    "\n",
    "        self.classifier = torch.nn.Sequential(\n",
    "            #torch.nn.Linear(in_features=30, out_features=20, bias=True),\n",
    "            #torch.nn.ReLU(),\n",
    "            torch.nn.Linear(10, out_features=num_classes, bias=True)\n",
    "        )\n",
    "\n",
    "    \n",
    "    def forward(self, data):\n",
    "\n",
    "        #message passing layers:\n",
    "        x, edge_index, edge_attr, batch = data.x, data.edge_index, data.edge_attr, data.batch\n",
    "\n",
    "        x = self.gine_conv1(x, edge_index, edge_attr)\n",
    "        #print(\"conv1: \", x.shape)\n",
    "        x = torch.nn.functional.relu(x)\n",
    "\n",
    "        #x = self.gine_conv2(x, edge_index, edge_attr)\n",
    "        #x = torch.nn.functional.relu(x)\n",
    "        #print(\"conv2: \", x.shape)\n",
    "\n",
    "        #readout layer (mean over all nodes)\n",
    "        x = torch_geometric.nn.global_mean_pool(x, batch)\n",
    "\n",
    "        #classifier\n",
    "        x = self.classifier(x)\n",
    "\n",
    "        return torch.nn.functional.log_softmax(x, dim=1) #to use with loss function nll_loss"
   ]
  },
  {
   "cell_type": "code",
   "execution_count": 189,
   "metadata": {},
   "outputs": [],
   "source": [
    "def train(loader, model, loss_fn, optimizer, device):\n",
    "    total_num_dataset = len(loader.dataset)\n",
    "    model.train()\n",
    "    for batch_nr, batch_dat in enumerate(loader):\n",
    "        batch_dat = batch_dat.to(device)\n",
    "        #print(batch_dat)\n",
    "        #print(batch_dat.num_graphs)\n",
    "        pred = model(batch_dat)\n",
    "        #print(pred.shape)\n",
    "        loss = loss_fn(pred, batch_dat.y)\n",
    "        \n",
    "        loss.backward()\n",
    "        optimizer.step()\n",
    "        optimizer.zero_grad()\n",
    "\n",
    "        if batch_nr % 20 == 0:\n",
    "            loss, current = loss.item(), (batch_nr + 1)*len(batch_dat)\n",
    "            print(f\"loss: {loss:>7f} [{current:>5d}/{total_num_dataset:>5d}]\")"
   ]
  },
  {
   "cell_type": "code",
   "execution_count": 190,
   "metadata": {},
   "outputs": [
    {
     "name": "stdout",
     "output_type": "stream",
     "text": [
      "load squares\n"
     ]
    },
    {
     "name": "stderr",
     "output_type": "stream",
     "text": [
      "100%|██████████| 200/200 [00:00<00:00, 646.41it/s]\n"
     ]
    },
    {
     "name": "stdout",
     "output_type": "stream",
     "text": [
      "load rectangles\n"
     ]
    },
    {
     "name": "stderr",
     "output_type": "stream",
     "text": [
      "100%|██████████| 200/200 [00:00<00:00, 728.84it/s]\n"
     ]
    },
    {
     "name": "stdout",
     "output_type": "stream",
     "text": [
      "load hexagons\n"
     ]
    },
    {
     "name": "stderr",
     "output_type": "stream",
     "text": [
      "100%|██████████| 200/200 [00:00<00:00, 523.22it/s]\n"
     ]
    },
    {
     "name": "stdout",
     "output_type": "stream",
     "text": [
      "load oblique\n"
     ]
    },
    {
     "name": "stderr",
     "output_type": "stream",
     "text": [
      "100%|██████████| 200/200 [00:00<00:00, 742.85it/s]"
     ]
    },
    {
     "name": "stdout",
     "output_type": "stream",
     "text": [
      "800\n"
     ]
    },
    {
     "name": "stderr",
     "output_type": "stream",
     "text": [
      "\n"
     ]
    }
   ],
   "source": [
    "#load data\n",
    "data_list = loadData()\n",
    "train_dataloader = DataLoader(data_list, batch_size=8, shuffle=True)\n",
    "print(len(train_dataloader.dataset))"
   ]
  },
  {
   "cell_type": "code",
   "execution_count": 191,
   "metadata": {},
   "outputs": [
    {
     "name": "stdout",
     "output_type": "stream",
     "text": [
      "cuda\n"
     ]
    }
   ],
   "source": [
    "device = \"cuda\" if torch.cuda.is_available() else \"cpu\"\n",
    "print(device)"
   ]
  },
  {
   "cell_type": "code",
   "execution_count": 192,
   "metadata": {},
   "outputs": [
    {
     "name": "stdout",
     "output_type": "stream",
     "text": [
      "\n",
      "Epoch 1\n",
      "----------------------------------------\n",
      "loss: 1.424645 [    8/  800]\n",
      "loss: 1.385198 [  168/  800]\n",
      "loss: 1.339840 [  328/  800]\n",
      "loss: 1.354807 [  488/  800]\n",
      "loss: 1.042459 [  648/  800]\n",
      "\n",
      "Epoch 2\n",
      "----------------------------------------\n",
      "loss: 0.795919 [    8/  800]\n",
      "loss: 0.847001 [  168/  800]\n",
      "loss: 0.992510 [  328/  800]\n",
      "loss: 0.537189 [  488/  800]\n",
      "loss: 0.924451 [  648/  800]\n",
      "\n",
      "Epoch 3\n",
      "----------------------------------------\n",
      "loss: 1.077623 [    8/  800]\n",
      "loss: 0.388849 [  168/  800]\n",
      "loss: 0.845413 [  328/  800]\n",
      "loss: 0.892118 [  488/  800]\n",
      "loss: 0.942486 [  648/  800]\n",
      "\n",
      "Epoch 4\n",
      "----------------------------------------\n",
      "loss: 0.702253 [    8/  800]\n",
      "loss: 0.966353 [  168/  800]\n",
      "loss: 0.866604 [  328/  800]\n",
      "loss: 0.533416 [  488/  800]\n",
      "loss: 0.696019 [  648/  800]\n",
      "\n",
      "Epoch 5\n",
      "----------------------------------------\n",
      "loss: 0.893044 [    8/  800]\n",
      "loss: 0.937990 [  168/  800]\n",
      "loss: 1.096215 [  328/  800]\n",
      "loss: 0.442699 [  488/  800]\n",
      "loss: 0.828826 [  648/  800]\n",
      "\n",
      "Epoch 6\n",
      "----------------------------------------\n",
      "loss: 1.181651 [    8/  800]\n",
      "loss: 0.703509 [  168/  800]\n",
      "loss: 0.809743 [  328/  800]\n",
      "loss: 0.926419 [  488/  800]\n",
      "loss: 0.711852 [  648/  800]\n",
      "\n",
      "Epoch 7\n",
      "----------------------------------------\n",
      "loss: 0.949332 [    8/  800]\n",
      "loss: 0.960351 [  168/  800]\n",
      "loss: 0.536433 [  328/  800]\n",
      "loss: 0.867106 [  488/  800]\n",
      "loss: 0.902486 [  648/  800]\n",
      "\n",
      "Epoch 8\n",
      "----------------------------------------\n",
      "loss: 1.080210 [    8/  800]\n",
      "loss: 0.606115 [  168/  800]\n",
      "loss: 1.002562 [  328/  800]\n",
      "loss: 0.879963 [  488/  800]\n",
      "loss: 0.846286 [  648/  800]\n",
      "\n",
      "Epoch 9\n",
      "----------------------------------------\n",
      "loss: 1.026054 [    8/  800]\n",
      "loss: 0.804877 [  168/  800]\n",
      "loss: 1.083652 [  328/  800]\n",
      "loss: 1.007757 [  488/  800]\n",
      "loss: 0.810579 [  648/  800]\n",
      "\n",
      "Epoch 10\n",
      "----------------------------------------\n",
      "loss: 0.815597 [    8/  800]\n",
      "loss: 1.118353 [  168/  800]\n",
      "loss: 0.669662 [  328/  800]\n",
      "loss: 0.953589 [  488/  800]\n",
      "loss: 0.674358 [  648/  800]\n",
      "\n",
      "Epoch 11\n",
      "----------------------------------------\n",
      "loss: 0.674811 [    8/  800]\n",
      "loss: 0.935963 [  168/  800]\n",
      "loss: 0.825672 [  328/  800]\n",
      "loss: 0.780324 [  488/  800]\n",
      "loss: 0.778218 [  648/  800]\n",
      "\n",
      "Epoch 12\n",
      "----------------------------------------\n",
      "loss: 0.910036 [    8/  800]\n",
      "loss: 0.865137 [  168/  800]\n",
      "loss: 0.554994 [  328/  800]\n",
      "loss: 0.792761 [  488/  800]\n",
      "loss: 0.819290 [  648/  800]\n",
      "\n",
      "Epoch 13\n",
      "----------------------------------------\n",
      "loss: 0.969941 [    8/  800]\n",
      "loss: 0.705479 [  168/  800]\n",
      "loss: 0.877938 [  328/  800]\n",
      "loss: 0.806641 [  488/  800]\n",
      "loss: 0.947742 [  648/  800]\n",
      "\n",
      "Epoch 14\n",
      "----------------------------------------\n",
      "loss: 0.796961 [    8/  800]\n",
      "loss: 0.844343 [  168/  800]\n",
      "loss: 1.098260 [  328/  800]\n",
      "loss: 0.813618 [  488/  800]\n",
      "loss: 0.958261 [  648/  800]\n",
      "\n",
      "Epoch 15\n",
      "----------------------------------------\n",
      "loss: 0.485241 [    8/  800]\n",
      "loss: 1.120652 [  168/  800]\n",
      "loss: 0.827971 [  328/  800]\n",
      "loss: 0.834095 [  488/  800]\n",
      "loss: 0.799978 [  648/  800]\n",
      "\n",
      "Epoch 16\n",
      "----------------------------------------\n",
      "loss: 0.560947 [    8/  800]\n",
      "loss: 0.692565 [  168/  800]\n",
      "loss: 0.872218 [  328/  800]\n",
      "loss: 0.790154 [  488/  800]\n",
      "loss: 0.858501 [  648/  800]\n",
      "\n",
      "Epoch 17\n",
      "----------------------------------------\n",
      "loss: 0.933573 [    8/  800]\n",
      "loss: 0.854299 [  168/  800]\n",
      "loss: 0.975916 [  328/  800]\n",
      "loss: 0.835700 [  488/  800]\n",
      "loss: 0.842411 [  648/  800]\n",
      "\n",
      "Epoch 18\n",
      "----------------------------------------\n",
      "loss: 0.964933 [    8/  800]\n",
      "loss: 0.552639 [  168/  800]\n",
      "loss: 0.965498 [  328/  800]\n",
      "loss: 1.003151 [  488/  800]\n",
      "loss: 0.382695 [  648/  800]\n",
      "\n",
      "Epoch 19\n",
      "----------------------------------------\n",
      "loss: 0.695224 [    8/  800]\n",
      "loss: 0.570940 [  168/  800]\n",
      "loss: 0.956693 [  328/  800]\n",
      "loss: 0.694636 [  488/  800]\n",
      "loss: 0.684995 [  648/  800]\n",
      "\n",
      "Epoch 20\n",
      "----------------------------------------\n",
      "loss: 0.812547 [    8/  800]\n",
      "loss: 0.965675 [  168/  800]\n",
      "loss: 0.959647 [  328/  800]\n",
      "loss: 0.690117 [  488/  800]\n",
      "loss: 0.791198 [  648/  800]\n",
      "Done\n"
     ]
    }
   ],
   "source": [
    "model = gineConv(1, 4, 2)\n",
    "model.to(device)\n",
    "loss_fn = torch.nn.NLLLoss()\n",
    "optimizer = torch.optim.Adam(model.parameters(), lr=1e-2)\n",
    "\n",
    "epochs = 20\n",
    "for t in range(epochs):\n",
    "    print(f\"\\nEpoch {t+1}\\n----------------------------------------\")\n",
    "    train(train_dataloader, model, loss_fn, optimizer, device)\n",
    "    #test(test_dataloader, model, loss_fn)\n",
    "print(\"Done\")"
   ]
  },
  {
   "cell_type": "code",
   "execution_count": null,
   "metadata": {},
   "outputs": [],
   "source": []
  },
  {
   "cell_type": "code",
   "execution_count": null,
   "metadata": {},
   "outputs": [],
   "source": []
  },
  {
   "cell_type": "code",
   "execution_count": null,
   "metadata": {},
   "outputs": [
    {
     "name": "stdout",
     "output_type": "stream",
     "text": [
      "Epoch 1\n",
      "----------------------------------------\n",
      "Epoch 2\n",
      "----------------------------------------\n",
      "Epoch 3\n",
      "----------------------------------------\n",
      "Epoch 4\n",
      "----------------------------------------\n",
      "Epoch 5\n",
      "----------------------------------------\n",
      "Done\n"
     ]
    }
   ],
   "source": []
  },
  {
   "cell_type": "code",
   "execution_count": null,
   "metadata": {},
   "outputs": [],
   "source": []
  }
 ],
 "metadata": {
  "kernelspec": {
   "display_name": "ML",
   "language": "python",
   "name": "python3"
  },
  "language_info": {
   "codemirror_mode": {
    "name": "ipython",
    "version": 3
   },
   "file_extension": ".py",
   "mimetype": "text/x-python",
   "name": "python",
   "nbconvert_exporter": "python",
   "pygments_lexer": "ipython3",
   "version": "3.11.2"
  }
 },
 "nbformat": 4,
 "nbformat_minor": 2
}
