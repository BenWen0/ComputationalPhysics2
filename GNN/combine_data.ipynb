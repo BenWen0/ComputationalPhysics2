{
 "cells": [
  {
   "cell_type": "code",
   "execution_count": 1,
   "metadata": {},
   "outputs": [],
   "source": [
    "#averaging over 5 training runs and printing the average to file"
   ]
  },
  {
   "cell_type": "code",
   "execution_count": null,
   "metadata": {},
   "outputs": [],
   "source": [
    "import numpy as np\n",
    "import matplotlib.pyplot as plt\n",
    "from tqdm import tqdm\n",
    "import matplotlib as mpl\n",
    "\n",
    "mpl.rcParams[\"font.size\"] = 18\n",
    "mpl.rcParams['mathtext.fontset'] = 'stix'\n",
    "mpl.rcParams['font.family'] = 'STIXGeneral'"
   ]
  },
  {
   "cell_type": "code",
   "execution_count": 5,
   "metadata": {},
   "outputs": [
    {
     "name": "stderr",
     "output_type": "stream",
     "text": [
      "100%|██████████| 36/36 [00:00<00:00, 5513.18it/s]\n",
      "100%|██████████| 36/36 [00:00<00:00, 9293.71it/s]\n",
      "100%|██████████| 36/36 [00:00<00:00, 8095.38it/s]\n",
      "100%|██████████| 36/36 [00:00<00:00, 4243.46it/s]\n",
      "100%|██████████| 36/36 [00:00<00:00, 7190.92it/s]\n"
     ]
    }
   ],
   "source": [
    "add_layers = [2]\n",
    "hidd_mess = [1, 2, 3]\n",
    "hidd_upd = [1, 2]\n",
    "width_mess = [10, 20, 30]\n",
    "width_upd = [5, 10]\n",
    "\n",
    "comb = np.array([(al, hm, hu, wm, wu) for al in add_layers for hm in hidd_mess for hu in hidd_upd for wm in width_mess for wu in width_upd])\n",
    "n_epochs = np.array([20, 30, 30, 30, 30])\n",
    "test_avg = np.zeros(shape=(len(comb), np.max(n_epochs), 2))\n",
    "for i_training in range(5):\n",
    "    #train = np.zeros(shape=(len(comb), 1246))\n",
    "    epochs = n_epochs[i_training]\n",
    "    test = np.zeros(shape=(len(comb), epochs, 2))\n",
    "    for i_comb in tqdm(range(len(comb))):\n",
    "        (al, hm, hu, wm, wu) = comb[i_comb]\n",
    "        #file_train = f\"./res_training3_2d/run_al2_{hm}_{hu}_{wm}_{wu}_train.txt\"\n",
    "        file_test = f\"./res_training{i_training + 1}_2d/run_al2_{hm}_{hu}_{wm}_{wu}_test.txt\"\n",
    "        #train[i, :] = np.loadtxt(file_train) #loss\n",
    "        test[i_comb, :, :] = np.loadtxt(file_test, delimiter=\",\") #test_loss,accuracy\n",
    "    test_avg[:, :epochs,:] += test\n",
    "\n",
    "test_avg[:, :20,:] /= 5\n",
    "test_avg[:, 20:,:] /= 4"
   ]
  },
  {
   "cell_type": "code",
   "execution_count": 6,
   "metadata": {},
   "outputs": [
    {
     "name": "stdout",
     "output_type": "stream",
     "text": [
      "0\t:\t[ 2  1  1 10  5] \t:\t 0.8730649533179401\n",
      "1\t:\t[ 2  1  1 10 10] \t:\t 0.9338168858548338\n",
      "2\t:\t[ 2  1  1 20  5] \t:\t 0.9249071378375665\n",
      "3\t:\t[ 2  1  1 20 10] \t:\t 0.9449603453468527\n",
      "4\t:\t[ 2  1  1 30  5] \t:\t 0.9390874410199779\n",
      "5\t:\t[ 2  1  1 30 10] \t:\t 0.9438309406686076\n",
      "6\t:\t[ 2  1  2 10  5] \t:\t 0.901440618411806\n",
      "7\t:\t[ 2  1  2 10 10] \t:\t 0.9285463306896898\n",
      "8\t:\t[ 2  1  2 20  5] \t:\t 0.9177542415420139\n",
      "9\t:\t[ 2  1  2 20 10] \t:\t 0.934017668908744\n",
      "10\t:\t[ 2  1  2 30  5] \t:\t 0.9362011846200181\n",
      "11\t:\t[ 2  1  2 30 10] \t:\t 0.9257604658166851\n",
      "12\t:\t[ 2  2  1 10  5] \t:\t 0.8986547535388013\n",
      "13\t:\t[ 2  2  1 10 10] \t:\t 0.8979771107318543\n",
      "14\t:\t[ 2  2  1 20  5] \t:\t 0.9343941371348259\n",
      "15\t:\t[ 2  2  1 20 10] \t:\t 0.9352976608774219\n",
      "16\t:\t[ 2  2  1 30  5] \t:\t 0.9391627346651943\n",
      "17\t:\t[ 2  2  1 30 10] \t:\t 0.9530920590302179\n",
      "18\t:\t[ 2  2  2 10  5] \t:\t 0.9016414014657163\n",
      "19\t:\t[ 2  2  2 10 10] \t:\t 0.9305792591105311\n",
      "20\t:\t[ 2  2  2 20  5] \t:\t 0.8928069470936653\n",
      "21\t:\t[ 2  2  2 20 10] \t:\t 0.9381337215139043\n",
      "22\t:\t[ 2  2  2 30  5] \t:\t 0.938961951611284\n",
      "23\t:\t[ 2  2  2 30 10] \t:\t 0.9444081919485995\n",
      "24\t:\t[ 2  3  1 10  5] \t:\t 0.9089950808151792\n",
      "25\t:\t[ 2  3  1 10 10] \t:\t 0.937004316835659\n",
      "26\t:\t[ 2  3  1 20  5] \t:\t 0.9383847003312922\n",
      "27\t:\t[ 2  3  1 20 10] \t:\t 0.9271659471940568\n",
      "28\t:\t[ 2  3  1 30  5] \t:\t 0.935523541813071\n",
      "29\t:\t[ 2  3  1 30 10] \t:\t 0.9441823110129505\n",
      "30\t:\t[ 2  3  2 10  5] \t:\t 0.847424957333601\n",
      "31\t:\t[ 2  3  2 10 10] \t:\t 0.91478767192049\n",
      "32\t:\t[ 2  3  2 20  5] \t:\t 0.7730950707760266\n",
      "33\t:\t[ 2  3  2 20 10] \t:\t 0.9324114044774621\n",
      "34\t:\t[ 2  3  2 30  5] \t:\t 0.7218401766890874\n",
      "35\t:\t[ 2  3  2 30 10] \t:\t 0.9175534584881035\n"
     ]
    }
   ],
   "source": [
    "acc_max = np.max(test_avg[:, :, 1], axis=1)\n",
    "for i in range(36):\n",
    "    print(f\"{i}\\t:\\t{comb[i]} \\t:\\t {acc_max[i]}\")"
   ]
  },
  {
   "cell_type": "code",
   "execution_count": 7,
   "metadata": {},
   "outputs": [],
   "source": [
    "for i, (al, hm, hu, wm, wu) in enumerate(comb):\n",
    "    #file_train = f\"res_training_combined_2d/run_al2_{hm}_{hu}_{wm}_{wu}_train.txt\"\n",
    "    file_test = f\"res_training_combined_2d/run_al2_{hm}_{hu}_{wm}_{wu}_test.txt\"\n",
    "    np.savetxt(fname=file_test, X=test_avg[i, :, :], delimiter=\",\")\n",
    "    "
   ]
  },
  {
   "cell_type": "code",
   "execution_count": null,
   "metadata": {},
   "outputs": [],
   "source": []
  }
 ],
 "metadata": {
  "kernelspec": {
   "display_name": "ML",
   "language": "python",
   "name": "python3"
  },
  "language_info": {
   "codemirror_mode": {
    "name": "ipython",
    "version": 3
   },
   "file_extension": ".py",
   "mimetype": "text/x-python",
   "name": "python",
   "nbconvert_exporter": "python",
   "pygments_lexer": "ipython3",
   "version": "3.11.2"
  }
 },
 "nbformat": 4,
 "nbformat_minor": 2
}
