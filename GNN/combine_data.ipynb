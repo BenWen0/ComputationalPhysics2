{
 "cells": [
  {
   "cell_type": "code",
   "execution_count": 1,
   "metadata": {},
   "outputs": [],
   "source": [
    "import numpy as np\n",
    "import matplotlib.pyplot as plt\n",
    "from tqdm import tqdm\n",
    "import matplotlib as mpl\n",
    "\n",
    "mpl.rcParams[\"font.size\"] = 18\n",
    "mpl.rcParams['mathtext.fontset'] = 'stix'\n",
    "mpl.rcParams['font.family'] = 'STIXGeneral'"
   ]
  },
  {
   "cell_type": "code",
   "execution_count": null,
   "metadata": {},
   "outputs": [],
   "source": []
  },
  {
   "cell_type": "code",
   "execution_count": null,
   "metadata": {},
   "outputs": [],
   "source": []
  },
  {
   "cell_type": "code",
   "execution_count": 2,
   "metadata": {},
   "outputs": [
    {
     "name": "stderr",
     "output_type": "stream",
     "text": [
      "100%|██████████| 36/36 [00:00<00:00, 2523.56it/s]\n",
      "100%|██████████| 36/36 [00:00<00:00, 3671.16it/s]\n",
      "100%|██████████| 36/36 [00:00<00:00, 4026.64it/s]\n",
      "100%|██████████| 36/36 [00:00<00:00, 3631.00it/s]\n"
     ]
    }
   ],
   "source": [
    "add_layers = [2]\n",
    "hidd_mess = [1, 2, 3]\n",
    "hidd_upd = [1, 2]\n",
    "width_mess = [10, 20, 30]\n",
    "width_upd = [5, 10]\n",
    "\n",
    "comb = np.array([(al, hm, hu, wm, wu) for al in add_layers for hm in hidd_mess for hu in hidd_upd for wm in width_mess for wu in width_upd])\n",
    "n_epochs = np.array([20, 30, 30, 30])\n",
    "test_avg = np.zeros(shape=(len(comb), np.max(n_epochs), 2))\n",
    "for i_training in range(4):\n",
    "    #train = np.zeros(shape=(len(comb), 1246))\n",
    "    epochs = n_epochs[i_training]\n",
    "    test = np.zeros(shape=(len(comb), epochs, 2))\n",
    "    for i_comb in tqdm(range(len(comb))):\n",
    "        (al, hm, hu, wm, wu) = comb[i_comb]\n",
    "        #file_train = f\"./res_training3_2d/run_al2_{hm}_{hu}_{wm}_{wu}_train.txt\"\n",
    "        file_test = f\"./res_training{i_training + 1}_2d/run_al2_{hm}_{hu}_{wm}_{wu}_test.txt\"\n",
    "        #train[i, :] = np.loadtxt(file_train) #loss\n",
    "        test[i_comb, :, :] = np.loadtxt(file_test, delimiter=\",\") #test_loss,accuracy\n",
    "    test_avg[:, :epochs,:] += test\n",
    "\n",
    "test_avg[:, :20,:] /= 4\n",
    "test_avg[:, 20:,:] /= 3\n",
    "#print(np.count_nonzero(n_epochs >= epochs))"
   ]
  },
  {
   "cell_type": "code",
   "execution_count": 3,
   "metadata": {},
   "outputs": [
    {
     "name": "stdout",
     "output_type": "stream",
     "text": [
      "0\t:\t[ 2  1  1 10  5] \t:\t 0.864170264029716\n",
      "1\t:\t[ 2  1  1 10 10] \t:\t 0.9349797543753974\n",
      "2\t:\t[ 2  1  1 20  5] \t:\t 0.9262791553726198\n",
      "3\t:\t[ 2  1  1 20 10] \t:\t 0.946725563029147\n",
      "4\t:\t[ 2  1  1 30  5] \t:\t 0.9418063782083458\n",
      "5\t:\t[ 2  1  1 30 10] \t:\t 0.943144931901081\n",
      "6\t:\t[ 2  1  2 10  5] \t:\t 0.8936184452698859\n",
      "7\t:\t[ 2  1  2 10 10] \t:\t 0.9271826791152161\n",
      "8\t:\t[ 2  1  2 20  5] \t:\t 0.9155037981461032\n",
      "9\t:\t[ 2  1  2 20 10] \t:\t 0.9291235819696818\n",
      "10\t:\t[ 2  1  2 30  5] \t:\t 0.9342435498443932\n",
      "11\t:\t[ 2  1  2 30 10] \t:\t 0.9241792992671418\n",
      "12\t:\t[ 2  2  1 10  5] \t:\t 0.8986714854599605\n",
      "13\t:\t[ 2  2  1 10 10] \t:\t 0.911287354013988\n",
      "14\t:\t[ 2  2  1 20  5] \t:\t 0.9335408091557073\n",
      "15\t:\t[ 2  2  1 20 10] \t:\t 0.9332730984171601\n",
      "16\t:\t[ 2  2  1 30  5] \t:\t 0.9389619516112839\n",
      "17\t:\t[ 2  2  1 30 10] \t:\t 0.9538198976006426\n",
      "18\t:\t[ 2  2  2 10  5] \t:\t 0.9048622962888598\n",
      "19\t:\t[ 2  2  2 10 10] \t:\t 0.9299936418699595\n",
      "20\t:\t[ 2  2  2 20  5] \t:\t 0.8817722450891812\n",
      "21\t:\t[ 2  2  2 20 10] \t:\t 0.9439815279590403\n",
      "22\t:\t[ 2  2  2 30  5] \t:\t 0.9388950239266473\n",
      "23\t:\t[ 2  2  2 30 10] \t:\t 0.9438476725897668\n",
      "24\t:\t[ 2  3  1 10  5] \t:\t 0.913797142187866\n",
      "25\t:\t[ 2  3  1 10 10] \t:\t 0.9337415922096174\n",
      "26\t:\t[ 2  3  1 20  5] \t:\t 0.9386273131881003\n",
      "27\t:\t[ 2  3  1 20 10] \t:\t 0.9367868018605896\n",
      "28\t:\t[ 2  3  1 30  5] \t:\t 0.9346451159522137\n",
      "29\t:\t[ 2  3  1 30 10] \t:\t 0.942977612689489\n",
      "30\t:\t[ 2  3  2 10  5] \t:\t 0.8493123180403575\n",
      "31\t:\t[ 2  3  2 10 10] \t:\t 0.910977813472543\n",
      "32\t:\t[ 2  3  2 20  5] \t:\t 0.7424204397148881\n",
      "33\t:\t[ 2  3  2 20 10] \t:\t 0.9362513803834956\n",
      "34\t:\t[ 2  3  2 30  5] \t:\t 0.6638222400696048\n",
      "35\t:\t[ 2  3  2 30 10] \t:\t 0.9127932269183147\n"
     ]
    }
   ],
   "source": [
    "acc_max = np.max(test_avg[:, :, 1], axis=1)\n",
    "for i in range(36):\n",
    "    print(f\"{i}\\t:\\t{comb[i]} \\t:\\t {acc_max[i]}\")"
   ]
  },
  {
   "cell_type": "code",
   "execution_count": 4,
   "metadata": {},
   "outputs": [],
   "source": [
    "for i, (al, hm, hu, wm, wu) in enumerate(comb):\n",
    "    #file_train = f\"res_training_combined_2d/run_al2_{hm}_{hu}_{wm}_{wu}_train.txt\"\n",
    "    file_test = f\"res_training_combined_2d/run_al2_{hm}_{hu}_{wm}_{wu}_test.txt\"\n",
    "    np.savetxt(fname=file_test, X=test_avg[i, :, :], delimiter=\",\")\n",
    "    "
   ]
  },
  {
   "cell_type": "code",
   "execution_count": null,
   "metadata": {},
   "outputs": [],
   "source": []
  }
 ],
 "metadata": {
  "kernelspec": {
   "display_name": "ML",
   "language": "python",
   "name": "python3"
  },
  "language_info": {
   "codemirror_mode": {
    "name": "ipython",
    "version": 3
   },
   "file_extension": ".py",
   "mimetype": "text/x-python",
   "name": "python",
   "nbconvert_exporter": "python",
   "pygments_lexer": "ipython3",
   "version": "3.11.2"
  }
 },
 "nbformat": 4,
 "nbformat_minor": 2
}
